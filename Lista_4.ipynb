{
  "nbformat": 4,
  "nbformat_minor": 0,
  "metadata": {
    "colab": {
      "name": "Lista_4.ipynb",
      "provenance": [],
      "collapsed_sections": [],
      "include_colab_link": true
    },
    "kernelspec": {
      "display_name": "Python 3",
      "name": "python3"
    }
  },
  "cells": [
    {
      "cell_type": "markdown",
      "metadata": {
        "id": "view-in-github",
        "colab_type": "text"
      },
      "source": [
        "<a href=\"https://colab.research.google.com/github/miichelle1/PEMichelle/blob/master/Lista_4.ipynb\" target=\"_parent\"><img src=\"https://colab.research.google.com/assets/colab-badge.svg\" alt=\"Open In Colab\"/></a>"
      ]
    },
    {
      "cell_type": "code",
      "metadata": {
        "colab": {
          "base_uri": "https://localhost:8080/",
          "height": 86
        },
        "id": "S8ZDaY0LAfKd",
        "outputId": "62e5c5d3-2d7b-46f1-ac81-30695f04c3a2"
      },
      "source": [
        "# Disciplina: Probabilidade e Estatística\n",
        "# Nome: Michelle Lucena Brito \n",
        "# Lista 4\n",
        "\n",
        "# Questão 1 \n",
        "'''Lados = int(input('NÚMERO DE LADOS DO POLÍGONO: ')) # Solicita o número de lados\n",
        "\n",
        "if Lados == 3: # Verifica se os lados são iguais a 3\n",
        "  Medida = float(input('MEDIDA DO LADO DO POLÍGONO: ')) # Solicita a medida de lados\n",
        "  Area = Medida ** 2 * 3 ** (1/2) / 4 # Calcula o valor da área do triângulo\n",
        "  print('TRIÂNGULO') # Exibe: \"triângulo\"\n",
        "  print(Area) # Exibe a área\n",
        "\n",
        "elif Lados == 4: # Verifica se os lados são iguais a 4\n",
        "  Medida = float(input('MEDIDA DO LADO DO POLÍGONO: ')) # Solicita a medida de lados\n",
        "  Area = Medida * 2 # Calcula o valor da área do QUADRADO\n",
        "  print('QUADRADO') # Exibe: \"QUADRADO\"\n",
        "  print(Area) # Exibe a área\n",
        "\n",
        "elif Lados == 5: # Verifica se os lados são iguais a 5\n",
        "  print('PENTÁGONO') # Exibe: \"PENTÁGONO\"'''\n",
        "\n",
        "# Questão 2\n",
        "'''Lados = int(input('NÚMERO DE LADOS DO POLÍGONO: ')) # Solicita o número de lados\n",
        "\n",
        "if Lados == 3: # Verifica se os lados são iguais a 3\n",
        "  Medida = float(input('MEDIDA DO LADO DO POLÍGONO: ')) # Solicita a medida de lados\n",
        "  Area = Medida ** 2 * 3 ** (1/2) / 4 # Calcula o valor da área do triângulo\n",
        "  print('TRIÂNGULO') # Exibe: \"triângulo\"\n",
        "  print(Area) # Exibe a área\n",
        "\n",
        "elif Lados == 4: # Verifica se os lados são iguais a 4\n",
        "  Medida = float(input('MEDIDA DO LADO DO POLÍGONO: ')) # Solicita a medida de lados\n",
        "  print('QUADRADO') # Exibe: \"QUADRADO\"\n",
        "  Area = Medida * 2 # Calcula o valor da área do QUADRADO\n",
        "  print(Area) # Exibe a área\n",
        "\n",
        "elif Lados == 5: # Verifica se os lados são iguais a 5\n",
        "  print('PENTÁGONO') # Exibe: \"PENTÁGONO\"\n",
        "\n",
        "elif Lados < 3: # Verifica se os lados são menores que 3\n",
        "  print('NÃO É UM POLÍGONO') # Exibe que NÃO É UM POLÍGONO\n",
        "\n",
        "elif Lados > 5: # Verifica se os lados são maiores que 5\n",
        "  print('POLÍGONO NÃO INDENTIFICADO') # Exibe que POLÍGONO NÃO INDENTIFICADO'''\n",
        "\n",
        "# Questão 3\n",
        "'''PRIMEIRO = int(input('PRIMEIRO VALOR: ')) # Solicita o primeiro valor\n",
        "SEGUNDO = int(input('SEGUNDO VALOR: ')) # Solicita o segundo valor\n",
        "TERCEIRO = int(input('TERCEIRO VALOR: '))# Solicita o terceiro valor\n",
        "\n",
        "if PRIMEIRO != SEGUNDO != TERCEIRO: # Verifica o valor do primeiro, segundo e terceiro são diferentes\n",
        "  if PRIMEIRO > SEGUNDO and PRIMEIRO > TERCEIRO: # Verifica o valor do prmeiro é maior que o segundo e terceiro\n",
        "    print(PRIMEIRO) # Exibe PRIMEIRO\n",
        "  elif SEGUNDO > PRIMEIRO and SEGUNDO > TERCEIRO: # Verifica o valor do SEGUNDO é maior que o primeiro e terceiro\n",
        "    print(SEGUNDO) # Exibe SEGUNDO\n",
        "  elif TERCEIRO > PRIMEIRO and TERCEIRO > SEGUNDO: # Verifica o valor do TERCEIRO é maior que o primeiro e SEGUNDO\n",
        "    print(TERCEIRO) # Exibe TERCEIRO\n",
        "else: # Verifica o valor do primeiro, segundo e terceiro são iguais\n",
        "  print('NÃO PODE DIGITAR VALORES IGUAIS') # Exibe a Mensagem'''\n",
        "\n",
        "# Questão 4\n",
        "'''PRIMEIRO = int(input('PRIMEIRO LADO: ')) # Solicita o lado\n",
        "SEGUNDO = int(input('SEGUNDO LADO: ')) # Solicita o segundo lado\n",
        "TERCEIRO = int(input('TERCEIRO LADO: ')) # Solicita o terceiro lado\n",
        "\n",
        "if PRIMEIRO == SEGUNDO == TERCEIRO: # Verifica o valor do primeiro, segundo e terceiro são iguais\n",
        "  print('TRIÂNGULO EQUILÁTERO') # Exibe TRIÂNGULO EQUILÁTERO\n",
        "elif PRIMEIRO == SEGUNDO != TERCEIRO or PRIMEIRO != SEGUNDO == TERCEIRO or PRIMEIRO == TERCEIRO != SEGUNDO: # Verifica se algum dos valores são diferentes\n",
        "  print('TRIÂNGULO ISÓCELES') # Exibe TRIÂNGULO ISÓCELES\n",
        "else: # Verifica o valor do primeiro, segundo e terceiro são diferentes\n",
        "  print('TRIÂNGULO ESCALENO') # Exibe TRIÂNGULO ESCALENO'''\n",
        "\n",
        "# Questão 5\n",
        "'''ANG1 = int(input('PRIMEIRO ÂNGULO: ')) # Solicita o ÂNGULO\n",
        "ANG2 = int(input('SEGUNDO ÂNGULO: ')) # Solicita o segundo ÂNGULO\n",
        "ANG3 = int(input('TERCEIRO ÂNGULO: ')) # Solicita o terceiro ÂNGULO\n",
        "\n",
        "if ANG1 + ANG2 + ANG3 == 180: # Verifica se a soma dos ângulos é 180º\n",
        "  if ANG1 == 90 or ANG2 == 90 or ANG3 == 90: # Verifica se algum dos ângulos é 90º\n",
        "    print('TRIÂNGULO RETÂNGULO') # Exibe TRIÂNGULO RETÂNGULO\n",
        "  if ANG1 > 90 or ANG2 > 90 or ANG3 > 90: # Verifica se algum dos ângulos é maior que 90º\n",
        "    print('TRIÂNGULO OBTUSÂNGULO') # Exibe TRIÂNGULO OBTUSÂNGULO\n",
        "  if ANG1 < 90 and ANG2 < 90 and ANG3 < 90: # Verifica se algum dos ângulos é menor que 90º\n",
        "    print('TRIÂNGULO ESCALENO') # Exibe TRIÂNGULO ESCALENO\n",
        "else: # Verifica se os ângulos dão menos que 180º\n",
        "  print('NÃO É UM TRIÂNGULO') # Exibe a mensagem'''\n",
        "\n",
        "# Questão 6\n",
        "'''X = int(input('DIGITE UM NÚMERO INTEIRO: ')) # Solicita um número inteiro \n",
        "X = int(X) # Verifica se é inteiro \n",
        "\n",
        "for X in range(0,X+1): # Faz o laço range do número inteiro e soma mais um para incluir o número selecionando no laço. \n",
        "  print(X) # Exibe a sequência de 0 até o número selecionado'''\n",
        "\n",
        "# Questão 7\n",
        "'''NUM = int(input('DIGITE UM NÚMERO ENTRE 1 E 4: ')) # Solicita um número de 1 a 4 \n",
        "while (NUM < 1 or NUM > 4): # Verifica se o número está entre 1 e 4 \n",
        "   print('ENTRADA INVÁLIDA, DIGITE O NÚMERO NOVAMENTE') # Exibe a mensagem de erro\n",
        "   NUM = int(input('DIGITE UM NÚMERO ENTRE 1 E 4: ')) # Novamente solicita um número de 1 a 4 \n",
        "   continue; # Continua no loop solicitando o número \n",
        "else: # Verifica se o número esta entre 1 a 4\n",
        "   print('O NÚMERO INFORMADO É:', NUM) # Exibe o número'''\n",
        "\n",
        "# Questão 8\n",
        "'''print('DIGITE 0 PARA VER O MAIOR VALOR ENTRE OS QUE VOCÊ DIGITOU ') # Exibe mensagem informativa\n",
        "A = 1 # Declara A\n",
        "MAIOR = 0 # Declara o maior como 0\n",
        "QUANTIDADE = 0 # Declara quantidade como 0\n",
        "while A != 0: # Faz o laço while se o número for maior que 0 \n",
        "    A = int(input('VALOR: ')) # Solicita o valor \n",
        "    QUANTIDADE += 1 # Incrementa os números ao valor \n",
        "    if QUANTIDADE == 1: # Verifica se a quantidade de números informados foi igual a 1 \n",
        "      MAIOR = QUANTIDADE = A # Determina então que o maior valor é o único digitado\n",
        "    else: # Verifica o valor maior  \n",
        "      if A > MAIOR: # Verifica se o número é maior que 0\n",
        "        MAIOR = A # Determina que o maior número dexa de ser 0 e agora é o maior valor de A \n",
        "print('O MAIOR VALOR É: ', MAIOR) # Exibe o maior número'''\n",
        "\n",
        "# Questão 9\n",
        "'''NUMERO = int(input('INFORME UM NÚMERO ENTRE 1000 E 9999: ')) # Solicita um número entre 1000 e 9999\n",
        "UNIDADES = str(NUMERO) # Transforma o valor em STRING\n",
        "\n",
        "print('O NÚMERO INFORMADO FOI:', NUMERO) # Exibe o valor\n",
        "print('UNIDADE: {}' # Exibe a UNIDADE\n",
        "      '\\nDEZENA: {}' # Pula linha e Exibe a DEZENA\n",
        "      '\\nCENTENA: {}' # Pula linha e Exibe a CENTENA\n",
        "      '\\nMILHAR: {}' # Pula linha e Exibe o MILHAR\n",
        "      .format(UNIDADES[3], UNIDADES[2], UNIDADES[1], UNIDADES[0])) # Exibe as decomposições em unidades'''"
      ],
      "execution_count": 91,
      "outputs": [
        {
          "output_type": "execute_result",
          "data": {
            "application/vnd.google.colaboratory.intrinsic+json": {
              "type": "string"
            },
            "text/plain": [
              "\"NUMERO = int(input('INFORME UM NÚMERO ENTRE 1000 E 9999: ')) # Solicita um número entre 1000 e 9999\\nUNIDADES = str(NUMERO) # Transforma o valor em STRING\\n\\nprint('O NÚMERO INFORMADO FOI:', NUMERO) # Exibe o valor\\nprint('UNIDADE: {}' # Exibe a UNIDADE\\n      '\\nDEZENA: {}' # Pula linha e Exibe a DEZENA\\n      '\\nCENTENA: {}' # Pula linha e Exibe a CENTENA\\n      '\\nMILHAR: {}' # Pula linha e Exibe o MILHAR\\n      .format(UNIDADES[3], UNIDADES[2], UNIDADES[1], UNIDADES[0])) # Exibe as decomposições em unidades\""
            ]
          },
          "metadata": {
            "tags": []
          },
          "execution_count": 91
        }
      ]
    }
  ]
}